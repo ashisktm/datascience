{
 "cells": [
  {
   "cell_type": "markdown",
   "id": "8432b4f3-e877-4007-a050-c631079f1581",
   "metadata": {},
   "source": [
    "# Data Science Tools and Ecosystem "
   ]
  },
  {
   "cell_type": "markdown",
   "id": "710bca27-dd95-4307-8b79-7f6f051b6ec7",
   "metadata": {},
   "source": [
    "In this notebook, Data Science Tools and Ecosystem are summarized."
   ]
  },
  {
   "cell_type": "markdown",
   "id": "cbf7e1be-62cf-4157-ad82-faecea611525",
   "metadata": {},
   "source": [
    "Some of the popular languages that Data Scientists use are:\n",
    "1. Python\n",
    "2. R\n",
    "3. SQL\n",
    "4. Java"
   ]
  },
  {
   "cell_type": "code",
   "execution_count": null,
   "id": "6082360b-70e7-4806-b5ea-2133e81b456d",
   "metadata": {},
   "outputs": [],
   "source": [
    "Some of the commonly used libraries used by Data Scientists include:\n",
    "1. Panda\n",
    "2. NumPy\n",
    "3. Matplotlib"
   ]
  },
  {
   "cell_type": "code",
   "execution_count": null,
   "id": "12b9130e-1e73-4558-a238-316726a68cc9",
   "metadata": {},
   "outputs": [],
   "source": [
    "| Data Science Tools          |\n",
    "|-----------------------------|\n",
    "| Jupyter Notebook            |\n",
    "| RStudio                     |\n",
    "| VS Code                     |\n",
    " \n"
   ]
  },
  {
   "cell_type": "markdown",
   "id": "bc91f14d-96dc-417f-8332-251eaa056d6b",
   "metadata": {},
   "source": [
    "Below are a few examples of evaluating arithmetic expressions in Python.\n",
    "\n",
    "### Addition\n",
    "result1 = 5 + 3\n",
    "print(\"5 + 3 =\", result1)\n",
    "\n",
    "### Subtraction\n",
    "result2 = 10 - 4\n",
    "print(\"10 - 4 =\", result2)"
   ]
  },
  {
   "cell_type": "code",
   "execution_count": 3,
   "id": "2c314c36-6c9f-4255-b1fd-50d1025208b6",
   "metadata": {},
   "outputs": [
    {
     "name": "stdout",
     "output_type": "stream",
     "text": [
      "17\n"
     ]
    }
   ],
   "source": [
    "#this a simple arithmetic expression to mutiply then add integers.\n",
    "x=(3*4)+5\n",
    "print (x)"
   ]
  },
  {
   "cell_type": "code",
   "execution_count": 4,
   "id": "8089a4dc-e51d-4225-9488-a915503e4b78",
   "metadata": {},
   "outputs": [
    {
     "name": "stdout",
     "output_type": "stream",
     "text": [
      "200 minutes is equal to 3.3333333333333335 hours\n"
     ]
    }
   ],
   "source": [
    "# This will convert 200 minutes to hours by diving by 60.\n",
    "hours = 200 / 60\n",
    "print(\"200 minutes is equal to\", hours, \"hours\")"
   ]
  },
  {
   "cell_type": "markdown",
   "id": "4d4e5f1f-fc6c-4b3a-9907-5b19f929c8e7",
   "metadata": {},
   "source": [
    "# Objectives\n",
    "\n",
    "- List popular languages for Data Science  \n",
    "- Identify commonly used Data Science libraries  \n",
    "- Create Markdown and code cells in Jupyter Notebook  \n",
    "- Convert time units using arithmetic expressions in Python  \n",
    "- Format tables and headings using Markdown"
   ]
  },
  {
   "cell_type": "markdown",
   "id": "449eb3e0-3c3b-4301-96e5-d845754b95d5",
   "metadata": {},
   "source": [
    "## Author Name"
   ]
  }
 ],
 "metadata": {
  "kernelspec": {
   "display_name": "Python 3 (ipykernel)",
   "language": "python",
   "name": "python3"
  },
  "language_info": {
   "codemirror_mode": {
    "name": "ipython",
    "version": 3
   },
   "file_extension": ".py",
   "mimetype": "text/x-python",
   "name": "python",
   "nbconvert_exporter": "python",
   "pygments_lexer": "ipython3",
   "version": "3.13.1"
  }
 },
 "nbformat": 4,
 "nbformat_minor": 5
}
