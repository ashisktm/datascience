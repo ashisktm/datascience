{
 "cells": [
  {
   "cell_type": "markdown",
   "id": "dc5c16b3-79f7-4599-8217-48a7cda663c1",
   "metadata": {},
   "source": [
    "# Data Science Tools and Ecosystem "
   ]
  },
  {
   "cell_type": "markdown",
   "id": "dc2a9e12-ee10-442d-b034-b7d9bc16f149",
   "metadata": {},
   "source": [
    "In this notebook, Data science Tools and Echo system are summarized. "
   ]
  },
  {
   "cell_type": "markdown",
   "id": "df063bf1-6d4f-482b-83d1-1229da22c716",
   "metadata": {},
   "source": [
    "**Objectives**\n",
    "* Adds comments to code cells\n",
    "* Create markdown cell\n",
    "* Add ordered and unordered list to markdown cell\n",
    "* Format content of markdown cell with heading style\n",
    "\n",
    "\n"
   ]
  },
  {
   "cell_type": "markdown",
   "id": "f43e786d-930c-45fd-96ef-9a3aa9cb139a",
   "metadata": {},
   "source": [
    "Some of the popular languages used are:\n",
    "1. Python\n",
    "2. R\n",
    "3. SQL\n",
    "4. Java\n",
    "5. SCALA"
   ]
  },
  {
   "cell_type": "markdown",
   "id": "60c9e5f2-ff67-4975-b2fb-eb891f1cf635",
   "metadata": {},
   "source": [
    "Some of the commonly used libraries used by data scientists includes\n",
    "1. Panda\n",
    "2. Numpy\n",
    "3. Matplotlib\n",
    "4. Ggplot2\n",
    "5. Vegas"
   ]
  },
  {
   "cell_type": "markdown",
   "id": "bcb4b72b-136c-4964-be4b-05b1b2e34da3",
   "metadata": {},
   "source": [
    "| Data science tools |\n",
    "----------------------\n",
    "| Jupyter Notebook.  |\n",
    "----------------------\n",
    "| Anaconda           |\n",
    "----------------------\n",
    "| RStudio            |\n",
    "----------------------\n"
   ]
  },
  {
   "cell_type": "markdown",
   "id": "3247c351-59af-4a3b-8937-5c5abd83f6d5",
   "metadata": {},
   "source": [
    "Below are few examples of arithmetic expressions in python"
   ]
  },
  {
   "cell_type": "code",
   "execution_count": 6,
   "id": "e39695d8-afd1-4d90-ac78-849895539379",
   "metadata": {},
   "outputs": [
    {
     "name": "stdout",
     "output_type": "stream",
     "text": [
      "8\n",
      "2\n"
     ]
    }
   ],
   "source": [
    "### addition\n",
    "x= 5+3\n",
    "\n",
    "### substraction\n",
    "y= 5-3\n",
    "\n",
    "print (x)\n",
    "print (y)"
   ]
  },
  {
   "cell_type": "code",
   "execution_count": 9,
   "id": "6b439ed8-1704-4b26-9a1f-87dd13c7a111",
   "metadata": {},
   "outputs": [
    {
     "name": "stdout",
     "output_type": "stream",
     "text": [
      "17\n"
     ]
    }
   ],
   "source": [
    "#this is a arithmetic expression to multiply and add integers\n",
    "z=(3*4)+5\n",
    "print (z)"
   ]
  },
  {
   "cell_type": "code",
   "execution_count": 10,
   "id": "6683dbe6-c06c-48be-8043-3214751e5c72",
   "metadata": {},
   "outputs": [
    {
     "name": "stdout",
     "output_type": "stream",
     "text": [
      "two hunderd minutes is equal to 3.3333333333333335 Hours\n"
     ]
    }
   ],
   "source": [
    "#This will convert 200 minutes to hour by dividing by 60\n",
    "hour = 200/60\n",
    "print (\"two hunderd minutes is equal to\", hours, \"Hours\")"
   ]
  },
  {
   "cell_type": "code",
   "execution_count": null,
   "id": "a86e0148-f5f2-4908-9074-f1fe9d714d65",
   "metadata": {},
   "outputs": [],
   "source": [
    "# *Author(s)*\n",
    "Name 1\n",
    "Name 2"
   ]
  }
 ],
 "metadata": {
  "kernelspec": {
   "display_name": "Python 3 (ipykernel)",
   "language": "python",
   "name": "python3"
  },
  "language_info": {
   "codemirror_mode": {
    "name": "ipython",
    "version": 3
   },
   "file_extension": ".py",
   "mimetype": "text/x-python",
   "name": "python",
   "nbconvert_exporter": "python",
   "pygments_lexer": "ipython3",
   "version": "3.13.1"
  }
 },
 "nbformat": 4,
 "nbformat_minor": 5
}
